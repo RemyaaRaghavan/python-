{
 "cells": [
  {
   "cell_type": "markdown",
   "id": "55104efb",
   "metadata": {},
   "source": [
    "# python Basic"
   ]
  },
  {
   "cell_type": "markdown",
   "id": "556f23e6",
   "metadata": {},
   "source": [
    "# python Keywords"
   ]
  },
  {
   "cell_type": "code",
   "execution_count": 7,
   "id": "4a2296cf",
   "metadata": {},
   "outputs": [
    {
     "data": {
      "text/plain": [
       "['False',\n",
       " 'None',\n",
       " 'True',\n",
       " 'and',\n",
       " 'as',\n",
       " 'assert',\n",
       " 'async',\n",
       " 'await',\n",
       " 'break',\n",
       " 'class',\n",
       " 'continue',\n",
       " 'def',\n",
       " 'del',\n",
       " 'elif',\n",
       " 'else',\n",
       " 'except',\n",
       " 'finally',\n",
       " 'for',\n",
       " 'from',\n",
       " 'global',\n",
       " 'if',\n",
       " 'import',\n",
       " 'in',\n",
       " 'is',\n",
       " 'lambda',\n",
       " 'nonlocal',\n",
       " 'not',\n",
       " 'or',\n",
       " 'pass',\n",
       " 'raise',\n",
       " 'return',\n",
       " 'try',\n",
       " 'while',\n",
       " 'with',\n",
       " 'yield']"
      ]
     },
     "execution_count": 7,
     "metadata": {},
     "output_type": "execute_result"
    }
   ],
   "source": [
    "#this will get you the list of all keywords in python.\n",
    "import keyword\n",
    "keyword.kwlist"
   ]
  },
  {
   "cell_type": "code",
   "execution_count": 8,
   "id": "80d78074",
   "metadata": {},
   "outputs": [
    {
     "data": {
      "text/plain": [
       "True"
      ]
     },
     "execution_count": 8,
     "metadata": {},
     "output_type": "execute_result"
    }
   ],
   "source": [
    "#this will return true,if the mentioned name is a keyword\n",
    "keyword.iskeyword('try')"
   ]
  },
  {
   "cell_type": "code",
   "execution_count": 10,
   "id": "b0157e91",
   "metadata": {},
   "outputs": [
    {
     "data": {
      "text/plain": [
       "False"
      ]
     },
     "execution_count": 10,
     "metadata": {},
     "output_type": "execute_result"
    }
   ],
   "source": [
    "keyword.iskeyword('loop')\n"
   ]
  },
  {
   "cell_type": "markdown",
   "id": "a27c4a1e",
   "metadata": {},
   "source": [
    "# popular python Libraries"
   ]
  },
  {
   "cell_type": "raw",
   "id": "f142c470",
   "metadata": {},
   "source": [
    "Numpy:\n",
    "Pandas:\n",
    "Matplotlib:    "
   ]
  },
  {
   "cell_type": "markdown",
   "id": "25776f5b",
   "metadata": {},
   "source": [
    "# Python Comments"
   ]
  },
  {
   "cell_type": "code",
   "execution_count": 6,
   "id": "e4a5ce12",
   "metadata": {},
   "outputs": [
    {
     "data": {
      "text/plain": [
       "\"Haii all it's me christy johns from Ezymentor\""
      ]
     },
     "execution_count": 6,
     "metadata": {},
     "output_type": "execute_result"
    }
   ],
   "source": [
    "#a single line comment\n",
    "#a multi line comment\n",
    "\"\"\"Haii all it's me christy johns from Ezymentor\"\"\""
   ]
  },
  {
   "cell_type": "code",
   "execution_count": null,
   "id": "c0322b09",
   "metadata": {},
   "outputs": [],
   "source": []
  }
 ],
 "metadata": {
  "kernelspec": {
   "display_name": "Python 3 (ipykernel)",
   "language": "python",
   "name": "python3"
  },
  "language_info": {
   "codemirror_mode": {
    "name": "ipython",
    "version": 3
   },
   "file_extension": ".py",
   "mimetype": "text/x-python",
   "name": "python",
   "nbconvert_exporter": "python",
   "pygments_lexer": "ipython3",
   "version": "3.10.9"
  }
 },
 "nbformat": 4,
 "nbformat_minor": 5
}
